{
 "cells": [
  {
   "cell_type": "code",
   "execution_count": 1,
   "metadata": {},
   "outputs": [],
   "source": [
    "#Import needed Packages from python : \n",
    "    \n",
    "import numpy as np\n",
    "import pandas as pd\n",
    "from pyspark.mllib.util import MLUtils\n",
    "from pyspark.ml.linalg import Vectors\n",
    "from pyspark.mllib.evaluation import MulticlassMetrics\n",
    "from pyspark.mllib.regression import LabeledPoint\n",
    "from pyspark.context import SparkContext , SparkConf\n",
    "from pyspark.sql.session import SparkSession\n",
    "from pyspark.sql import SQLContext\n"
   ]
  },
  {
   "cell_type": "code",
   "execution_count": 2,
   "metadata": {},
   "outputs": [],
   "source": [
    "#initialize our spark application \n",
    "conf = SparkConf().set(\"spark.sql.catalogImplementation\",\"hive\")\n",
    "sc = SparkContext('local', 'test', conf=conf)\n",
    "spark = SparkSession(sc)\n",
    "sqlContext = SQLContext(sc)\n"
   ]
  },
  {
   "cell_type": "code",
   "execution_count": 4,
   "metadata": {},
   "outputs": [],
   "source": [
    "#Import data : \n",
    "aisles = spark.read.csv(\"aisles.csv\", header=True, inferSchema=True)\n",
    "departments = spark.read.csv(\"departments.csv\", header=True, inferSchema=True)\n",
    "order_products_prior = spark.read.csv(\"order_products__prior.csv\", header=True, inferSchema=True)\n",
    "order_products_train = spark.read.csv(\"order_products__train.csv\", header=True, inferSchema=True)\n",
    "orders = spark.read.csv(\"orders.csv\", header=True, inferSchema=True)\n",
    "products = spark.read.csv(\"products.csv\", header=True, inferSchema=True)\n",
    "\n",
    "aisles.createOrReplaceTempView(\"aisles\")\n",
    "departments.createOrReplaceTempView(\"departments\")\n",
    "order_products_prior.createOrReplaceTempView(\"order_products_prior\")\n",
    "order_products_train.createOrReplaceTempView(\"order_products_train\")\n",
    "orders.createOrReplaceTempView(\"orders\")\n",
    "products.createOrReplaceTempView(\"products\")\n"
   ]
  },
  {
   "cell_type": "code",
   "execution_count": 41,
   "metadata": {},
   "outputs": [
    {
     "name": "stdout",
     "output_type": "stream",
     "text": [
      "done\n"
     ]
    }
   ],
   "source": [
    "#Create SQL table joining all data :\n",
    "sqlContext.sql('''\n",
    "create table master_table as\n",
    "(select op.*,p.product_name,p.aisle_id,p.department_id,d.department from\n",
    " (select * from order_products_train \n",
    " union\n",
    " select * from order_products_prior) as op\n",
    " inner join products as p\n",
    " on op.product_id = p.product_id\n",
    " inner join departments as d\n",
    " on p.department_id = d.department_id)''')"
   ]
  },
  {
   "cell_type": "code",
   "execution_count": 5,
   "metadata": {},
   "outputs": [],
   "source": [
    "# Organize the data by shopping basket\n",
    "from pyspark.sql.functions import collect_set, col, count\n",
    "rawData = spark.sql(\"select p.product_name, o.order_id from products p inner join order_products_train o where o.product_id = p.product_id\")\n",
    "baskets = rawData.groupBy('order_id').agg(collect_set('product_name').alias('items'))\n",
    "baskets.createOrReplaceTempView('baskets')"
   ]
  },
  {
   "cell_type": "code",
   "execution_count": 8,
   "metadata": {},
   "outputs": [],
   "source": [
    "#Train the model on the data \n",
    "from pyspark.ml.fpm import FPGrowth\n",
    "fpGrowth = FPGrowth(itemsCol=\"items\", minSupport=0.001, minConfidence=0)\n",
    "model = fpGrowth.fit(baskets)\n"
   ]
  },
  {
   "cell_type": "code",
   "execution_count": 9,
   "metadata": {},
   "outputs": [
    {
     "name": "stdout",
     "output_type": "stream",
     "text": [
      "+--------------------+-----+\n",
      "|               items| freq|\n",
      "+--------------------+-----+\n",
      "|[Organic Tomato B...|  772|\n",
      "|[Organic Tomato B...|  175|\n",
      "|[Organic Tomato B...|  144|\n",
      "|[Organic Tomato B...|  179|\n",
      "|[Organic Spinach ...|  475|\n",
      "|[Whole Milk Ricot...|  347|\n",
      "| [Medium Salsa Roja]|  275|\n",
      "|    [Ground Buffalo]|  231|\n",
      "|       [Tonic Water]|  194|\n",
      "|[Original Coconut...|  173|\n",
      "|[Low-Fat Strawber...|  152|\n",
      "|[Organic SprouTof...|  137|\n",
      "|            [Banana]|18726|\n",
      "|[Fruit Punch Spor...|  275|\n",
      "|[Kitchen Cheese E...|  230|\n",
      "|[Country White Br...|  194|\n",
      "|[Soft & Smooth Wh...|  173|\n",
      "|[Natural Liquid L...|  152|\n",
      "|[Bag of Organic B...|15480|\n",
      "|[Organic Large Gr...|  769|\n",
      "+--------------------+-----+\n",
      "only showing top 20 rows\n",
      "\n"
     ]
    }
   ],
   "source": [
    "#Display frequent itemsets.\n",
    "model.freqItemsets.show()\n",
    "\n"
   ]
  },
  {
   "cell_type": "code",
   "execution_count": 10,
   "metadata": {},
   "outputs": [],
   "source": [
    "#Get frequent itemsets.\n",
    "mostfreq = model.freqItemsets.rdd.map(lambda r : r[\"items\"]).take(200)\n",
    "\n"
   ]
  },
  {
   "cell_type": "code",
   "execution_count": 11,
   "metadata": {},
   "outputs": [],
   "source": [
    "#Merge frequent itemsets \n",
    "\n",
    "flat_list = [item for sublist in mostfreq for item in sublist]\n",
    "res = []\n",
    "for i in flat_list: \n",
    "    if i not in res: \n",
    "        res.append(i)\n",
    "df = pd.DataFrame(res,columns=['product_name'])\n",
    "df.to_csv(\"perfectproducts.csv\")        \n"
   ]
  },
  {
   "cell_type": "code",
   "execution_count": 12,
   "metadata": {},
   "outputs": [
    {
     "name": "stdout",
     "output_type": "stream",
     "text": [
      "+--------------------+--------------------+-------------------+------------------+\n",
      "|          antecedent|          consequent|         confidence|              lift|\n",
      "+--------------------+--------------------+-------------------+------------------+\n",
      "|[Broccoli Crown, ...|            [Banana]| 0.3690773067331671|2.5860442347085395|\n",
      "|   [Sugar Snap Peas]|[Bag of Organic B...| 0.2207001522070015|1.8706619038067482|\n",
      "|[Organic Red Onio...|[Bag of Organic B...|0.34673366834170855|2.9389262202485296|\n",
      "|[Organic Red Onio...|[Organic Baby Spi...|0.22780569514237856|3.0550038280801664|\n",
      "|[85% Lean Ground ...|            [Banana]|  0.235202492211838|1.6480125921511828|\n",
      "|[Organic Small Bu...|[Bag of Organic B...|0.36633663366336633| 3.105081612812444|\n",
      "|[Organic Zucchini...|       [Large Lemon]|0.34615384615384615| 5.583097725875844|\n",
      "|[Organic Zucchini...|[Organic Baby Spi...|0.29554655870445345|3.9634473038688296|\n",
      "|[Organic Zucchini...|             [Limes]|0.15368421052631578| 3.342408682073159|\n",
      "|[Organic Zucchini...|   [Organic Avocado]|0.16210526315789472|2.8707881594930775|\n",
      "|[Organic Zucchini...|       [Large Lemon]| 0.1957894736842105| 3.157878433021706|\n",
      "|[Organic Zucchini...|[Organic Strawber...| 0.2031578947368421|2.4468647154880037|\n",
      "|[Organic Zucchini...|[Bag of Organic B...| 0.2694736842105263|2.2840679994560045|\n",
      "|[Organic Zucchini...|            [Banana]| 0.2326315789473684| 1.629998763329342|\n",
      "|[Organic Zucchini...|  [Organic Cucumber]|0.15157894736842106| 4.311407349937819|\n",
      "|[Organic Zucchini...|[Organic Hass Avo...|0.17473684210526316|  3.14370578853551|\n",
      "|[Organic Zucchini...|[Organic Yellow O...| 0.1463157894736842|  4.47504625199362|\n",
      "|[Organic Zucchini...|    [Organic Garlic]| 0.1463157894736842|  4.61711121237437|\n",
      "|[Sparkling Water ...|[Lime Sparkling W...|0.18627450980392157|12.431786448048191|\n",
      "|[Sparkling Water ...|[Sparkling Water ...|0.28431372549019607| 11.10584090736622|\n",
      "+--------------------+--------------------+-------------------+------------------+\n",
      "only showing top 20 rows\n",
      "\n"
     ]
    }
   ],
   "source": [
    "#Display generated association rules.\n",
    "model.associationRules.show()"
   ]
  },
  {
   "cell_type": "code",
   "execution_count": 13,
   "metadata": {
    "scrolled": true
   },
   "outputs": [
    {
     "name": "stdout",
     "output_type": "stream",
     "text": [
      "+--------+--------------------+--------------------+\n",
      "|order_id|               items|          prediction|\n",
      "+--------+--------------------+--------------------+\n",
      "|       1|[Organic Tomato B...|[Bag of Organic B...|\n",
      "+--------+--------------------+--------------------+\n",
      "\n"
     ]
    }
   ],
   "source": [
    "#Run an example\n",
    "query = spark.createDataFrame([\n",
    "    (1,  ['Organic Tomato Basil Pasta Sauce', 'Medium Navel Orange'])], [\"order_id\", \"items\"])\n",
    "# transform examines the input items against all the association rules and summarize the consequents as prediction\n",
    "model.transform(query).show()"
   ]
  },
  {
   "cell_type": "code",
   "execution_count": 14,
   "metadata": {},
   "outputs": [
    {
     "data": {
      "text/plain": [
       "['Bag of Organic Bananas',\n",
       " 'Organic Baby Spinach',\n",
       " 'Banana',\n",
       " 'Organic Strawberries',\n",
       " 'Large Lemon']"
      ]
     },
     "execution_count": 14,
     "metadata": {},
     "output_type": "execute_result"
    }
   ],
   "source": [
    "#Test the Example\n",
    "model.transform(query).rdd.map(lambda r : r[\"prediction\"]).take(1)[0]\n"
   ]
  },
  {
   "cell_type": "code",
   "execution_count": null,
   "metadata": {},
   "outputs": [
    {
     "name": "stdout",
     "output_type": "stream",
     "text": [
      " * Serving Flask app \"__main__\" (lazy loading)\n",
      " * Environment: production\n",
      "   WARNING: This is a development server. Do not use it in a production deployment.\n",
      "   Use a production WSGI server instead.\n",
      " * Debug mode: off\n"
     ]
    },
    {
     "name": "stderr",
     "output_type": "stream",
     "text": [
      " * Running on http://127.0.0.1:5000/ (Press CTRL+C to quit)\n",
      "127.0.0.1 - - [27/Jan/2021 14:06:13] \"\u001b[37mGET /search?tag=Tomato HTTP/1.1\u001b[0m\" 200 -\n"
     ]
    },
    {
     "name": "stdout",
     "output_type": "stream",
     "text": [
      "['Organic Tomato Basil Pasta Sauce', 'Organic Tomato Cluster', 'Roma Tomato', 'Red Vine Tomato', 'Organic Diced Tomatoes', 'Organic Grape Tomatoes', 'Organic Roma Tomato']\n"
     ]
    },
    {
     "name": "stderr",
     "output_type": "stream",
     "text": [
      "127.0.0.1 - - [27/Jan/2021 14:06:19] \"\u001b[37mGET /search?tag=Banana HTTP/1.1\u001b[0m\" 200 -\n"
     ]
    },
    {
     "name": "stdout",
     "output_type": "stream",
     "text": [
      "['Organic Banana', 'Bag of Organic Bananas', 'Banana']\n"
     ]
    },
    {
     "name": "stderr",
     "output_type": "stream",
     "text": [
      "127.0.0.1 - - [27/Jan/2021 14:06:28] \"\u001b[37mGET /search?tag=Orange HTTP/1.1\u001b[0m\" 200 -\n"
     ]
    },
    {
     "name": "stdout",
     "output_type": "stream",
     "text": [
      "['Medium Navel Orange', 'Organic Navel Orange', 'Orange Bell Pepper']\n",
      "['Organic Tomato Basil Pasta Sauce', 'Organic Reduced Fat 2% Milk', 'Organic Basil', 'Organic Cilantro', 'Organic Roasted Turkey Breast', 'Organic White Onions', 'Organic Carrot Bunch', 'Organic Bell Pepper', 'Organic Banana', 'Organic Tomato Cluster', 'Organic Hass Avocado', 'Organic Large Extra Fancy Fuji Apple', 'Organic Whole String Cheese', 'Organic Gala Apples', 'Bag of Organic Bananas', 'Organic Peeled Whole Baby Carrots', 'Organic Broccoli Florets', 'Organic Kiwi', 'Organic Whole Milk', 'Organic Strawberries', 'Organic Baby Spinach', 'Michigan Organic Kale', 'Organic Italian Parsley Bunch', 'Organic Avocado', 'Organic Yellow Onion', 'Organic Romaine', 'Organic Whole Strawberries', 'Organic Fat Free Milk', 'Organic Extra Firm Tofu', 'Organic Garbanzo Beans', 'Organic Broccoli Crowns', 'Organic Sour Cream', 'Organic Garnet Sweet Potato (Yam)', 'Organic Granny Smith Apple', 'Organic Zucchini', 'Organic Cucumber', 'Organic Lacinato (Dinosaur) Kale', 'Organic Spring Mix', 'Organic Broccoli', \"Organic D'Anjou Pears\", 'Organic Blackberries', 'Organic Ginger Root', 'Organic Blueberries', 'Organic Half & Half', 'Organic Diced Tomatoes', 'Organic Red Onion', 'Organic Large Grade AA Brown Eggs', 'Organic Bartlett Pear', 'Organic Bread with 21 Whole Grains', 'Organic Coconut Milk', 'Organic Romaine Lettuce', 'Organic Baby Broccoli', 'Organic Navel Orange', 'Apple Honeycrisp Organic', 'Organic Black Beans', 'Organic Fuji Apple', 'Frozen Organic Wild Blueberries', 'Organic Raspberries', 'Organic Grape Tomatoes', 'Organic Red Bell Pepper', 'Organic Unsweetened Almond Milk', 'Organic Baby Carrots', 'Organic Grade A Free Range Large Brown Eggs', 'Organic Baby Arugula', 'Organic Small Bunch Celery', 'Organic Roma Tomato', 'Organic Garlic', 'Organic Lemon', 'Organic Spring Mix Salad', 'Organic Spinach Bunch']\n"
     ]
    },
    {
     "name": "stderr",
     "output_type": "stream",
     "text": [
      "127.0.0.1 - - [27/Jan/2021 14:06:50] \"\u001b[37mGET /search?tag=Organic HTTP/1.1\u001b[0m\" 200 -\n"
     ]
    },
    {
     "name": "stdout",
     "output_type": "stream",
     "text": [
      "['Organic Tomato Basil Pasta Sauce', 'Organic Reduced Fat 2% Milk', 'Organic Basil', 'Organic Cilantro', 'Organic Roasted Turkey Breast', 'Organic White Onions', 'Organic Carrot Bunch', 'Organic Bell Pepper', 'Organic Banana', 'Organic Tomato Cluster', 'Organic Hass Avocado', 'Organic Large Extra Fancy Fuji Apple', 'Organic Whole String Cheese', 'Organic Gala Apples', 'Bag of Organic Bananas', 'Organic Peeled Whole Baby Carrots', 'Organic Broccoli Florets', 'Organic Kiwi', 'Organic Whole Milk', 'Organic Strawberries', 'Organic Baby Spinach', 'Michigan Organic Kale', 'Organic Italian Parsley Bunch', 'Organic Avocado', 'Organic Yellow Onion', 'Organic Romaine', 'Organic Whole Strawberries', 'Organic Fat Free Milk', 'Organic Extra Firm Tofu', 'Organic Garbanzo Beans', 'Organic Broccoli Crowns', 'Organic Sour Cream', 'Organic Garnet Sweet Potato (Yam)', 'Organic Granny Smith Apple', 'Organic Zucchini', 'Organic Cucumber', 'Organic Lacinato (Dinosaur) Kale', 'Organic Spring Mix', 'Organic Broccoli', \"Organic D'Anjou Pears\", 'Organic Blackberries', 'Organic Ginger Root', 'Organic Blueberries', 'Organic Half & Half', 'Organic Diced Tomatoes', 'Organic Red Onion', 'Organic Large Grade AA Brown Eggs', 'Organic Bartlett Pear', 'Organic Bread with 21 Whole Grains', 'Organic Coconut Milk', 'Organic Romaine Lettuce', 'Organic Baby Broccoli', 'Organic Navel Orange', 'Apple Honeycrisp Organic', 'Organic Black Beans', 'Organic Fuji Apple', 'Frozen Organic Wild Blueberries', 'Organic Raspberries', 'Organic Grape Tomatoes', 'Organic Red Bell Pepper', 'Organic Unsweetened Almond Milk', 'Organic Baby Carrots', 'Organic Grade A Free Range Large Brown Eggs', 'Organic Baby Arugula', 'Organic Small Bunch Celery', 'Organic Roma Tomato', 'Organic Garlic', 'Organic Lemon', 'Organic Spring Mix Salad', 'Organic Spinach Bunch']\n"
     ]
    },
    {
     "name": "stderr",
     "output_type": "stream",
     "text": [
      "127.0.0.1 - - [27/Jan/2021 14:07:07] \"\u001b[37mGET /search?tag=Organic HTTP/1.1\u001b[0m\" 200 -\n",
      "127.0.0.1 - - [27/Jan/2021 14:18:36] \"\u001b[37mGET /market HTTP/1.1\u001b[0m\" 200 -\n"
     ]
    },
    {
     "name": "stdout",
     "output_type": "stream",
     "text": [
      "0\n"
     ]
    },
    {
     "name": "stderr",
     "output_type": "stream",
     "text": [
      "127.0.0.1 - - [27/Jan/2021 14:18:50] \"\u001b[37mPOST /market HTTP/1.1\u001b[0m\" 200 -\n"
     ]
    },
    {
     "name": "stdout",
     "output_type": "stream",
     "text": [
      "['Organic Cilantro', 'Limes', 'Asparagus', 'Organic Whole Milk', 'Organic Strawberries', 'Organic Avocado', 'Organic Yellow Onion', 'Organic Zucchini', 'Large Lemon', 'Seedless Red Grapes', 'Strawberries', 'Organic Blueberries', 'Bag of Organic Bananas', 'Organic Red Onion', 'Organic Grape Tomatoes', 'Organic Raspberries', 'Organic Cucumber', 'Organic Baby Spinach', 'Organic Baby Carrots', 'Organic Garlic', 'Original Hummus', 'Organic Lemon', 'Organic Hass Avocado', 'Banana', 'Organic Small Bunch Celery', 'Organic Garnet Sweet Potato (Yam)', 'Organic Tomato Cluster', 'Organic Peeled Whole Baby Carrots', 'Organic Red Bell Pepper', 'Organic Granny Smith Apple', 'Organic Whole String Cheese', 'Organic Navel Orange', \"Organic D'Anjou Pears\", 'Organic Kiwi']\n",
      "34\n"
     ]
    },
    {
     "name": "stderr",
     "output_type": "stream",
     "text": [
      "127.0.0.1 - - [27/Jan/2021 14:18:51] \"\u001b[37mGET /market HTTP/1.1\u001b[0m\" 200 -\n"
     ]
    },
    {
     "name": "stdout",
     "output_type": "stream",
     "text": [
      "0\n"
     ]
    },
    {
     "name": "stderr",
     "output_type": "stream",
     "text": [
      "127.0.0.1 - - [27/Jan/2021 14:18:54] \"\u001b[37mGET /market HTTP/1.1\u001b[0m\" 200 -\n"
     ]
    },
    {
     "name": "stdout",
     "output_type": "stream",
     "text": [
      "0\n"
     ]
    },
    {
     "name": "stderr",
     "output_type": "stream",
     "text": [
      "127.0.0.1 - - [27/Jan/2021 14:19:01] \"\u001b[37mPOST /market HTTP/1.1\u001b[0m\" 200 -\n"
     ]
    },
    {
     "name": "stdout",
     "output_type": "stream",
     "text": [
      "['Limes', 'Asparagus', 'Organic Whole Milk', 'Yellow Onions', 'Organic Strawberries', 'Organic Avocado', 'Organic Yellow Onion', 'Large Lemon', 'Organic Zucchini', 'Honeycrisp Apple', 'Strawberries', 'Seedless Red Grapes', 'Bag of Organic Bananas', 'Organic Blueberries', 'Organic Red Onion', 'Organic Raspberries', 'Organic Grape Tomatoes', 'Organic Baby Carrots', 'Organic Cucumber', 'Organic Baby Spinach', 'Organic Garlic', 'Organic Hass Avocado', 'Banana', 'Organic Lemon', 'Small Hass Avocado', 'Broccoli Crown', 'Organic Baby Arugula', 'Red Peppers', 'Organic Large Extra Fancy Fuji Apple', 'Organic Gala Apples', 'Fresh Cauliflower', 'Michigan Organic Kale', 'Organic Small Bunch Celery', 'Organic Garnet Sweet Potato (Yam)', 'Organic Tomato Cluster', 'Green Bell Pepper', 'Carrots', 'Organic Peeled Whole Baby Carrots', 'Organic Italian Parsley Bunch', 'Organic Red Bell Pepper', 'Organic Granny Smith Apple', 'Red Vine Tomato', 'Unsweetened Almondmilk', 'Organic Ginger Root', 'Garlic', 'Jalapeno Peppers', 'Organic Lacinato (Dinosaur) Kale', 'Organic Carrot Bunch', 'Organic Broccoli', 'Organic Black Beans', 'Fresh Ginger Root', 'No Salt Added Black Beans', 'Organic Roma Tomato', 'Organic Coconut Milk', 'Organic Jalapeno Pepper']\n",
      "52\n"
     ]
    },
    {
     "name": "stderr",
     "output_type": "stream",
     "text": [
      "127.0.0.1 - - [27/Jan/2021 14:19:12] \"\u001b[37mGET /market HTTP/1.1\u001b[0m\" 200 -\n"
     ]
    },
    {
     "name": "stdout",
     "output_type": "stream",
     "text": [
      "0\n"
     ]
    }
   ],
   "source": [
    "#Initizalize Web Application\n",
    "from flask import Flask, make_response, render_template , jsonify , request  , url_for\n",
    "import random \n",
    "app = Flask(__name__)\n",
    "order = []\n",
    "near = dict()\n",
    "#Recommendation API\n",
    "@app.route('/market', methods=['POST','GET'])\n",
    "def product():\n",
    "    order = []\n",
    "    related = []\n",
    "    if request.method == \"POST\":\n",
    "        name = request.form.get('name')\n",
    "        order.append(name)\n",
    "        orders = [(random.randint(1,100),order)]\n",
    "        query = spark.createDataFrame(orders, [\"order_id\", \"items\"])\n",
    "        related = model.transform(query).rdd.map(lambda r : r[\"prediction\"]).take(1)[0]\n",
    "        print(related)\n",
    "    df = pd.read_csv(\"goodproducts.csv\", usecols=[\"product_name\",\"link\"])\n",
    "    df = df.dropna()    \n",
    "    keys = df[\"product_name\"]\n",
    "    values = df[\"link\"]\n",
    "    dictAll = dict(zip(keys, values))\n",
    "    a_subset = {elt: dictAll[elt] for elt in related if elt in dictAll.keys()}\n",
    "    print(len(a_subset))\n",
    "    return render_template('index.html', near = a_subset , dictAll = dictAll, order = order)\n",
    "\n",
    "\n",
    "#ElasticSearchAPI : \n",
    "from elasticsearch import Elasticsearch\n",
    "from elasticsearch_dsl import Search\n",
    "es = Elasticsearch()\n",
    "@app.route('/search')\n",
    "def search():\n",
    "    tag = request.args.get('tag')\n",
    "    df = pd.read_csv(\"goodproducts.csv\", usecols=[\"product_name\",\"link\"])\n",
    "    allnames = df[\"product_name\"]\n",
    "    allnames = [i for i in allnames if tag in i] \n",
    "    print(allnames)\n",
    "    dictAll = { \"\" : \"\" }\n",
    "    for name in allnames:\n",
    "        logs_index = \"bigdata\"\n",
    "        s = Search(using= es, index=logs_index).query(\"match\", tags=name)\n",
    "        res = s[0:1].execute()\n",
    "        for hit in res['hits']['hits']:\n",
    "            one = hit[\"_source\"]\n",
    "            link = \"http://farm\"+one['flickr_farm']+\".staticflickr.com/\"+one['flickr_server']+\"/\"+one['id']+\"_\"+one['flickr_secret']+\".jpg\"\n",
    "            dictAll[name] = link\n",
    "        dictAll.pop(\"\", None)\n",
    "        #print(dictAll)\n",
    "    return render_template('index.html', dictAll = dictAll, near= dict(),order = order)\n",
    "\n",
    "\n",
    "if __name__ == '__main__':\n",
    "    app.run()"
   ]
  },
  {
   "cell_type": "code",
   "execution_count": null,
   "metadata": {},
   "outputs": [],
   "source": []
  }
 ],
 "metadata": {
  "kernelspec": {
   "display_name": "Python 3",
   "language": "python",
   "name": "python3"
  },
  "language_info": {
   "codemirror_mode": {
    "name": "ipython",
    "version": 3
   },
   "file_extension": ".py",
   "mimetype": "text/x-python",
   "name": "python",
   "nbconvert_exporter": "python",
   "pygments_lexer": "ipython3",
   "version": "3.8.3"
  },
  "name": "Shopper Behavior Exploration and Market Basket Analysis using Apache Spark",
  "notebookId": 2966902244160128
 },
 "nbformat": 4,
 "nbformat_minor": 1
}
